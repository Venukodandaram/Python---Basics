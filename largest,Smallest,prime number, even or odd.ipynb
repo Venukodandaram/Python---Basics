{
 "cells": [
  {
   "cell_type": "code",
   "execution_count": 1,
   "metadata": {},
   "outputs": [],
   "source": [
    "import pandas as pd\n",
    "import numpy as np"
   ]
  },
  {
   "cell_type": "code",
   "execution_count": 2,
   "metadata": {},
   "outputs": [
    {
     "name": "stdout",
     "output_type": "stream",
     "text": [
      "2 2\n",
      "3 6\n",
      "4 24\n",
      "5 120\n",
      "6 720\n"
     ]
    }
   ],
   "source": [
    "num = [2,3,4,5,6]\n",
    "fact = 1\n",
    "for n in num:\n",
    "    for i in range(1,n+1):\n",
    "        fact = fact * i\n",
    "    print(n,fact)\n",
    "    fact = 1"
   ]
  },
  {
   "cell_type": "code",
   "execution_count": 3,
   "metadata": {},
   "outputs": [
    {
     "name": "stdout",
     "output_type": "stream",
     "text": [
      "25\n",
      "The Sqrt of 25.00 is 5.00\n"
     ]
    }
   ],
   "source": [
    "n = float(input());\n",
    "sq = n ** 0.5\n",
    "print('The Sqrt of %0.2f is %0.2f'%(n,sq))"
   ]
  },
  {
   "cell_type": "code",
   "execution_count": 4,
   "metadata": {},
   "outputs": [
    {
     "name": "stdout",
     "output_type": "stream",
     "text": [
      "10\n",
      "15\n",
      "8\n",
      "n2 = 15.000 is a largest number\n"
     ]
    }
   ],
   "source": [
    "# Finding the Largest Number\n",
    "n1 = (float(input()))\n",
    "n2 = (float(input()))\n",
    "n3 = (float(input()))\n",
    "\n",
    "if (n1 >= n2) and (n1 >= n3):\n",
    "    print('n1 = %0.3f is a largest number'%(n1)) # 0.3f is a string formating\n",
    "elif (n2 >= n1) and (n2 >= n3):\n",
    "    print('n2 = %0.3f is a largest number'%(n2)) \n",
    "else:\n",
    "    print('n3 = %0.3f is a largest number'%(n3))"
   ]
  },
  {
   "cell_type": "code",
   "execution_count": 5,
   "metadata": {},
   "outputs": [
    {
     "name": "stdout",
     "output_type": "stream",
     "text": [
      "10\n",
      "11\n",
      "200\n",
      "5\n",
      "1990\n",
      "n4 = 5.000 is a smallest number\n"
     ]
    }
   ],
   "source": [
    "# Finding the smallest numnber\n",
    "n1 = (float(input()))\n",
    "n2 = (float(input()))\n",
    "n3 = (float(input()))\n",
    "n4 = (float(input()))\n",
    "n5 = (float(input()))\n",
    "if (n1 <= n2 ) and (n1 <= n3) and (n1 <= n4) and (n2 <= n5):\n",
    "    print('n1 = %0.3f is a smallest number'%(n1))\n",
    "elif (n2 <= n1) and (n2 <= n3) and (n2 <= n4) and (n2 <= n5):\n",
    "    print('n2 = %0.3f is a smallest number'%(n2))\n",
    "elif (n3 <= n1 ) and (n3 <= n2) and (n3 <= n4) and (n3 <= n5):\n",
    "    print('n3 = %0.3f is a smallest number'%(n3))\n",
    "elif (n4 <= n1 ) and (n4 <= n2) and (n4 <= n3) and (n2 <= n5):\n",
    "    print('n4 = %0.3f is a smallest number'%(n4))\n",
    "else:\n",
    "    print('n5 = %0.3f is a smalest number'%(n5))"
   ]
  },
  {
   "cell_type": "code",
   "execution_count": 6,
   "metadata": {},
   "outputs": [
    {
     "name": "stdout",
     "output_type": "stream",
     "text": [
      "407\n",
      "407 is a not Prime number\n",
      "11 times 37 is 407\n"
     ]
    }
   ],
   "source": [
    "# Program to check number is prime or not\n",
    "#num = 407\n",
    "num = int(input('')) \n",
    "if num > 1:\n",
    "    for i in range(2,num): # i ranges from 2 to 406\n",
    "        if num % i == 0: # remainder should be zero \n",
    "            print(num,'is a not Prime number')\n",
    "            print(i,\"times\",num//i,\"is\",num)\n",
    "            break\n",
    "    else:\n",
    "            print(num,'is a Prime number')\n",
    "        \n",
    "    # if input number is less than or equal to 1, it is not prime\n",
    "else:\n",
    "    print(num,'is not a Prime number')"
   ]
  },
  {
   "cell_type": "code",
   "execution_count": 8,
   "metadata": {},
   "outputs": [
    {
     "name": "stdout",
     "output_type": "stream",
     "text": [
      "4\n",
      "4 is a Even Number\n"
     ]
    }
   ],
   "source": [
    "# Program to check even or odd \n",
    "eon = int(input())\n",
    "if eon % 2 == 0:\n",
    "    print('{0} is a Even Number'.format(eon))\n",
    "else:\n",
    "    print('{0} is a odd number'.format(eon))\n",
    "    "
   ]
  },
  {
   "cell_type": "code",
   "execution_count": null,
   "metadata": {},
   "outputs": [],
   "source": []
  }
 ],
 "metadata": {
  "kernelspec": {
   "display_name": "Python 3",
   "language": "python",
   "name": "python3"
  },
  "language_info": {
   "codemirror_mode": {
    "name": "ipython",
    "version": 3
   },
   "file_extension": ".py",
   "mimetype": "text/x-python",
   "name": "python",
   "nbconvert_exporter": "python",
   "pygments_lexer": "ipython3",
   "version": "3.7.3"
  }
 },
 "nbformat": 4,
 "nbformat_minor": 2
}
