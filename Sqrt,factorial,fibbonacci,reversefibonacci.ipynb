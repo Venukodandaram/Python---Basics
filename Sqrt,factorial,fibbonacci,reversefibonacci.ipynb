{
 "cells": [
  {
   "cell_type": "code",
   "execution_count": 14,
   "metadata": {},
   "outputs": [
    {
     "name": "stdout",
     "output_type": "stream",
     "text": [
      "The sqrt of 8.00000 is 2.82843 \n"
     ]
    }
   ],
   "source": [
    "# Finding the square root\n",
    "num = 8\n",
    "numsq = num ** 0.5\n",
    "print('The sqrt of %0.3f is %0.3f '%(num,numsq)) # %0.3 is a string formating"
   ]
  },
  {
   "cell_type": "code",
   "execution_count": 19,
   "metadata": {},
   "outputs": [
    {
     "name": "stdout",
     "output_type": "stream",
     "text": [
      "The sqrt of 10.000 is 2.828 \n"
     ]
    }
   ],
   "source": [
    "# defining the function\n",
    "def sqrtr(num):\n",
    "    numsqt = num ** 0.5\n",
    "    print('The sqrt of %0.3f is %0.3f '%(num,numsq))\n",
    "\n",
    "sqrtr(10)"
   ]
  },
  {
   "cell_type": "code",
   "execution_count": 54,
   "metadata": {},
   "outputs": [
    {
     "name": "stdout",
     "output_type": "stream",
     "text": [
      "1 1\n",
      "2 2\n",
      "3 6\n",
      "4 24\n",
      "5 120\n"
     ]
    }
   ],
   "source": [
    "# Factorial \n",
    "n = 5\n",
    "fact = 1\n",
    "for i in range(1,n+1):\n",
    "    fact = fact * i\n",
    "    print(i,fact)"
   ]
  },
  {
   "cell_type": "code",
   "execution_count": 36,
   "metadata": {},
   "outputs": [
    {
     "name": "stdout",
     "output_type": "stream",
     "text": [
      "1 1\n",
      "2 2\n",
      "3 6\n",
      "4 24\n",
      "5 120\n"
     ]
    }
   ],
   "source": [
    "# factorial for list of a numbers\n",
    "n = [1,2,3,4,5]\n",
    "fact = 1\n",
    "\n",
    "for item in n:\n",
    "    for i in range(1,item+1):\n",
    "        fact = fact * i\n",
    "    print(item,fact)\n",
    "    fact = 1\n"
   ]
  },
  {
   "cell_type": "code",
   "execution_count": 45,
   "metadata": {},
   "outputs": [
    {
     "name": "stdout",
     "output_type": "stream",
     "text": [
      "1 1\n",
      "3 6\n",
      "4 24\n",
      "5 120\n",
      "8 40320\n"
     ]
    }
   ],
   "source": [
    "# using define function\n",
    "def facto(n):\n",
    "    fact = 1\n",
    "    for item in n:\n",
    "        for i in range(1,item+1):\n",
    "            fact = fact * i\n",
    "        print(item,fact)\n",
    "        fact = 1\n",
    "\n",
    "facto([1,3,4,5,8])"
   ]
  },
  {
   "cell_type": "code",
   "execution_count": 64,
   "metadata": {},
   "outputs": [
    {
     "name": "stdout",
     "output_type": "stream",
     "text": [
      "0\n",
      "1\n",
      "1\n",
      "2\n",
      "3\n",
      "5\n",
      "8\n"
     ]
    }
   ],
   "source": [
    "# Fibonacci\n",
    "def fibo(n):\n",
    "    a = 0\n",
    "    b = 1\n",
    "    if n == 0:\n",
    "        print(a)\n",
    "    elif n == 1:\n",
    "        print(b)\n",
    "    else:\n",
    "        print(a)\n",
    "        print(b)\n",
    "    for i in range(1,n+1):\n",
    "        c = a+b\n",
    "        a = b\n",
    "        b = c \n",
    "        print(c)\n",
    "\n",
    "fibo(5)"
   ]
  },
  {
   "cell_type": "code",
   "execution_count": 73,
   "metadata": {},
   "outputs": [
    {
     "name": "stdout",
     "output_type": "stream",
     "text": [
      "34 21 13 8 5 3 2 1 1 0 "
     ]
    }
   ],
   "source": [
    "# Reverse Fibonacci\n",
    "def reverseFibonacci(n): \n",
    "   \n",
    "    a = [0] * n  \n",
    "  \n",
    "    # assigning first and second elements \n",
    "    a[0] = 0 \n",
    "    a[1] = 1 \n",
    "  \n",
    "    for i in range(2, n):   \n",
    "  \n",
    "        # storing sum in the \n",
    "        # preceding location \n",
    "        a[i] = a[i - 2] + a[i - 1]  \n",
    "       \n",
    "  \n",
    "    for i in range(n - 1, -1 , -1):   \n",
    "  \n",
    "        # printing array in \n",
    "        # reverse order \n",
    "        print(a[i],end=\" \")  \n",
    "        \n",
    "reverseFibonacci(10)"
   ]
  },
  {
   "cell_type": "code",
   "execution_count": null,
   "metadata": {},
   "outputs": [],
   "source": []
  }
 ],
 "metadata": {
  "kernelspec": {
   "display_name": "Python 3",
   "language": "python",
   "name": "python3"
  },
  "language_info": {
   "codemirror_mode": {
    "name": "ipython",
    "version": 3
   },
   "file_extension": ".py",
   "mimetype": "text/x-python",
   "name": "python",
   "nbconvert_exporter": "python",
   "pygments_lexer": "ipython3",
   "version": "3.7.3"
  }
 },
 "nbformat": 4,
 "nbformat_minor": 2
}
